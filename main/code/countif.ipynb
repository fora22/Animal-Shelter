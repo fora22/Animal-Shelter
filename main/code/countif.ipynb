{
  "nbformat": 4,
  "nbformat_minor": 0,
  "metadata": {
    "colab": {
      "name": "Test.ipynb",
      "provenance": []
    },
    "kernelspec": {
      "name": "python3",
      "display_name": "Python 3"
    },
    "language_info": {
      "name": "python"
    }
  },
  "cells": [
    {
      "cell_type": "code",
      "metadata": {
        "id": "-HS21HouTQOc"
      },
      "source": [
        "import pandas as pd\n",
        "import xml.etree.ElementTree as et"
      ],
      "execution_count": 2,
      "outputs": []
    },
    {
      "cell_type": "code",
      "metadata": {
        "id": "esE1pTReTSdZ"
      },
      "source": [
        "FILE_PATH = '/content/drive/MyDrive/Colab Notebooks/Test/'"
      ],
      "execution_count": 4,
      "outputs": []
    },
    {
      "cell_type": "code",
      "metadata": {
        "id": "TeIHFpStTgiv"
      },
      "source": [
        "df = pd.read_csv(FILE_PATH + '교차_아파트.csv', encoding='cp949')"
      ],
      "execution_count": 7,
      "outputs": []
    },
    {
      "cell_type": "code",
      "metadata": {
        "colab": {
          "base_uri": "https://localhost:8080/"
        },
        "id": "k8xYvpbHnhBe",
        "outputId": "b1389b86-f7a2-4ca2-bf06-8b8a3c58041f"
      },
      "source": [
        "df.head"
      ],
      "execution_count": 8,
      "outputs": [
        {
          "output_type": "execute_result",
          "data": {
            "text/plain": [
              "<bound method NDFrame.head of              id        left  ...           A20         A21\n",
              "0        154960  191644.686  ...  0.000000e+00  2021/07/22\n",
              "1        154960  191644.686  ...  2.496667e+08  2021/07/22\n",
              "2        154960  191644.686  ...  2.589535e+08  2021/07/22\n",
              "3        154960  191644.686  ...  2.474444e+08  2021/07/22\n",
              "4        154960  191644.686  ...  2.941716e+08  2021/07/22\n",
              "...         ...         ...  ...           ...         ...\n",
              "6495980  154961  191644.686  ...  4.388056e+08  2021/07/22\n",
              "6495981  154961  191644.686  ...  3.001579e+08  2021/07/22\n",
              "6495982  154961  191644.686  ...  3.174286e+08  2021/07/22\n",
              "6495983  154961  191644.686  ...  4.444000e+09  2021/07/22\n",
              "6495984  154961  191644.686  ...  3.068947e+08  2021/07/22\n",
              "\n",
              "[6495985 rows x 27 columns]>"
            ]
          },
          "metadata": {
            "tags": []
          },
          "execution_count": 8
        }
      ]
    },
    {
      "cell_type": "code",
      "metadata": {
        "id": "115eVyZXTmKI",
        "colab": {
          "base_uri": "https://localhost:8080/"
        },
        "outputId": "b88c0071-d0a3-4c64-e435-01150c6b0253"
      },
      "source": [
        "test_df = df.iloc[0:500, :]\n",
        "test_df.head"
      ],
      "execution_count": 18,
      "outputs": [
        {
          "output_type": "execute_result",
          "data": {
            "text/plain": [
              "<bound method NDFrame.head of          id        left          top  ...           A19           A20         A21\n",
              "0    154960  191644.686  451037.2122  ...  0.000000e+00  0.000000e+00  2021/07/22\n",
              "1    154960  191644.686  451037.2122  ...  2.736667e+08  2.496667e+08  2021/07/22\n",
              "2    154960  191644.686  451037.2122  ...  3.123488e+08  2.589535e+08  2021/07/22\n",
              "3    154960  191644.686  451037.2122  ...  2.774444e+08  2.474444e+08  2021/07/22\n",
              "4    154960  191644.686  451037.2122  ...  3.280597e+08  2.941716e+08  2021/07/22\n",
              "..      ...         ...          ...  ...           ...           ...         ...\n",
              "495  154959  191644.686  451087.2122  ...  2.782791e+08  2.479070e+08  2021/07/22\n",
              "496  154959  191644.686  451087.2122  ...  2.709744e+08  2.407949e+08  2021/07/22\n",
              "497  154959  191644.686  451087.2122  ...  2.956000e+09  2.817000e+09  2021/07/22\n",
              "498  154959  191644.686  451087.2122  ...  2.115833e+08  2.012500e+08  2021/07/22\n",
              "499  154959  191644.686  451087.2122  ...  2.774444e+08  2.474444e+08  2021/07/22\n",
              "\n",
              "[500 rows x 27 columns]>"
            ]
          },
          "metadata": {
            "tags": []
          },
          "execution_count": 18
        }
      ]
    },
    {
      "cell_type": "code",
      "metadata": {
        "id": "7IegGefToKG4"
      },
      "source": [
        "new_df = df.iloc[:,0:2]"
      ],
      "execution_count": 25,
      "outputs": []
    },
    {
      "cell_type": "code",
      "metadata": {
        "colab": {
          "base_uri": "https://localhost:8080/"
        },
        "id": "FrNJ_jTsoaFy",
        "outputId": "e360d93f-d0d7-4410-cd01-38718fb5ba62"
      },
      "source": [
        "new_df.head"
      ],
      "execution_count": 26,
      "outputs": [
        {
          "output_type": "execute_result",
          "data": {
            "text/plain": [
              "<bound method NDFrame.head of              id        left\n",
              "0        154960  191644.686\n",
              "1        154960  191644.686\n",
              "2        154960  191644.686\n",
              "3        154960  191644.686\n",
              "4        154960  191644.686\n",
              "...         ...         ...\n",
              "6495980  154961  191644.686\n",
              "6495981  154961  191644.686\n",
              "6495982  154961  191644.686\n",
              "6495983  154961  191644.686\n",
              "6495984  154961  191644.686\n",
              "\n",
              "[6495985 rows x 2 columns]>"
            ]
          },
          "metadata": {
            "tags": []
          },
          "execution_count": 26
        }
      ]
    },
    {
      "cell_type": "code",
      "metadata": {
        "id": "Rzs7o5iRyFes"
      },
      "source": [
        "new_df['count'] = new_df.groupby(['id'])['left'].transform('count')"
      ],
      "execution_count": 27,
      "outputs": []
    },
    {
      "cell_type": "code",
      "metadata": {
        "id": "ogJd4jkHo8ic"
      },
      "source": [
        "export_df = new_df.drop_duplicates(['id'])"
      ],
      "execution_count": 29,
      "outputs": []
    },
    {
      "cell_type": "code",
      "metadata": {
        "colab": {
          "base_uri": "https://localhost:8080/",
          "height": 414
        },
        "id": "GFEXhv1NpuSG",
        "outputId": "dddab32b-c93e-4006-e04c-f065bd669a6d"
      },
      "source": [
        "export_df = export_df.loc[:,['id', 'count']]\n",
        "export_df"
      ],
      "execution_count": 32,
      "outputs": [
        {
          "output_type": "execute_result",
          "data": {
            "text/html": [
              "<div>\n",
              "<style scoped>\n",
              "    .dataframe tbody tr th:only-of-type {\n",
              "        vertical-align: middle;\n",
              "    }\n",
              "\n",
              "    .dataframe tbody tr th {\n",
              "        vertical-align: top;\n",
              "    }\n",
              "\n",
              "    .dataframe thead th {\n",
              "        text-align: right;\n",
              "    }\n",
              "</style>\n",
              "<table border=\"1\" class=\"dataframe\">\n",
              "  <thead>\n",
              "    <tr style=\"text-align: right;\">\n",
              "      <th></th>\n",
              "      <th>id</th>\n",
              "      <th>count</th>\n",
              "    </tr>\n",
              "  </thead>\n",
              "  <tbody>\n",
              "    <tr>\n",
              "      <th>0</th>\n",
              "      <td>154960</td>\n",
              "      <td>58</td>\n",
              "    </tr>\n",
              "    <tr>\n",
              "      <th>58</th>\n",
              "      <td>154967</td>\n",
              "      <td>44</td>\n",
              "    </tr>\n",
              "    <tr>\n",
              "      <th>102</th>\n",
              "      <td>154966</td>\n",
              "      <td>48</td>\n",
              "    </tr>\n",
              "    <tr>\n",
              "      <th>150</th>\n",
              "      <td>154965</td>\n",
              "      <td>48</td>\n",
              "    </tr>\n",
              "    <tr>\n",
              "      <th>198</th>\n",
              "      <td>154964</td>\n",
              "      <td>51</td>\n",
              "    </tr>\n",
              "    <tr>\n",
              "      <th>...</th>\n",
              "      <td>...</td>\n",
              "      <td>...</td>\n",
              "    </tr>\n",
              "    <tr>\n",
              "      <th>6495768</th>\n",
              "      <td>154973</td>\n",
              "      <td>26</td>\n",
              "    </tr>\n",
              "    <tr>\n",
              "      <th>6495794</th>\n",
              "      <td>154972</td>\n",
              "      <td>30</td>\n",
              "    </tr>\n",
              "    <tr>\n",
              "      <th>6495824</th>\n",
              "      <td>154963</td>\n",
              "      <td>53</td>\n",
              "    </tr>\n",
              "    <tr>\n",
              "      <th>6495877</th>\n",
              "      <td>154962</td>\n",
              "      <td>54</td>\n",
              "    </tr>\n",
              "    <tr>\n",
              "      <th>6495931</th>\n",
              "      <td>154961</td>\n",
              "      <td>54</td>\n",
              "    </tr>\n",
              "  </tbody>\n",
              "</table>\n",
              "<p>193481 rows × 2 columns</p>\n",
              "</div>"
            ],
            "text/plain": [
              "             id  count\n",
              "0        154960     58\n",
              "58       154967     44\n",
              "102      154966     48\n",
              "150      154965     48\n",
              "198      154964     51\n",
              "...         ...    ...\n",
              "6495768  154973     26\n",
              "6495794  154972     30\n",
              "6495824  154963     53\n",
              "6495877  154962     54\n",
              "6495931  154961     54\n",
              "\n",
              "[193481 rows x 2 columns]"
            ]
          },
          "metadata": {
            "tags": []
          },
          "execution_count": 32
        }
      ]
    },
    {
      "cell_type": "code",
      "metadata": {
        "id": "01vbdnN9p3Eb"
      },
      "source": [
        ""
      ],
      "execution_count": null,
      "outputs": []
    }
  ]
}